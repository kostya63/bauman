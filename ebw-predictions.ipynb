{
 "cells": [
  {
   "cell_type": "code",
   "execution_count": 39,
   "id": "72dab952",
   "metadata": {},
   "outputs": [],
   "source": [
    "import numpy as np\n",
    "import pandas as pd\n",
    "import tensorflow as tf\n",
    "from tensorflow import keras\n",
    "from tensorflow.keras import layers\n",
    "from sklearn import preprocessing\n",
    "import joblib"
   ]
  },
  {
   "cell_type": "code",
   "execution_count": null,
   "id": "a080e738",
   "metadata": {},
   "outputs": [],
   "source": []
  },
  {
   "cell_type": "code",
   "execution_count": 40,
   "id": "b7b68d1b",
   "metadata": {},
   "outputs": [],
   "source": [
    "# Recreate the exact same model purely from the file\n",
    "dnn_model = keras.models.load_model('ebw-dnn-model.h5', compile = True)"
   ]
  },
  {
   "cell_type": "code",
   "execution_count": 41,
   "id": "d775d2a1",
   "metadata": {},
   "outputs": [],
   "source": [
    "RFR_model = joblib.load('RFR_model.sav')\n",
    "GBR_model = joblib.load('GBR_model.sav')\n",
    "BR_model = joblib.load('BR_model.sav')\n",
    "scaler = joblib.load('scaler.sav')"
   ]
  },
  {
   "cell_type": "code",
   "execution_count": 42,
   "id": "b6040b26",
   "metadata": {},
   "outputs": [
    {
     "name": "stdout",
     "output_type": "stream",
     "text": [
      "IW - 47\n"
     ]
    }
   ],
   "source": [
    "IW = float(input('IW - '))"
   ]
  },
  {
   "cell_type": "code",
   "execution_count": 43,
   "id": "60e9713a",
   "metadata": {},
   "outputs": [
    {
     "name": "stdout",
     "output_type": "stream",
     "text": [
      "IF - 140\n"
     ]
    }
   ],
   "source": [
    "IF = float(input('IF - '))"
   ]
  },
  {
   "cell_type": "code",
   "execution_count": 44,
   "id": "5a546bf6",
   "metadata": {},
   "outputs": [
    {
     "name": "stdout",
     "output_type": "stream",
     "text": [
      "VW - 4.4\n"
     ]
    }
   ],
   "source": [
    "VW = float(input('VW - '))"
   ]
  },
  {
   "cell_type": "code",
   "execution_count": 45,
   "id": "6c7fd43f",
   "metadata": {},
   "outputs": [
    {
     "name": "stdout",
     "output_type": "stream",
     "text": [
      "FP - 81\n"
     ]
    }
   ],
   "source": [
    "FP = float(input('FP - '))"
   ]
  },
  {
   "cell_type": "code",
   "execution_count": 46,
   "id": "ab5edc07",
   "metadata": {},
   "outputs": [],
   "source": [
    "X1 = pd.DataFrame(data = np.array([IW, IF, VW, FP], ndmin=2), columns = ['IW', 'IF', 'VW', 'FP'])"
   ]
  },
  {
   "cell_type": "code",
   "execution_count": 47,
   "id": "59519ece",
   "metadata": {},
   "outputs": [
    {
     "name": "stdout",
     "output_type": "stream",
     "text": [
      "1/1 [==============================] - 0s 51ms/step\n"
     ]
    }
   ],
   "source": [
    "dnn_y1 = dnn_model.predict(X1)"
   ]
  },
  {
   "cell_type": "code",
   "execution_count": 48,
   "id": "4938fcb2",
   "metadata": {},
   "outputs": [],
   "source": [
    "X1_scaled = pd.DataFrame(data = scaler.transform(X1), columns = ['IW', 'IF', 'VW', 'FP'])"
   ]
  },
  {
   "cell_type": "code",
   "execution_count": 49,
   "id": "46409326",
   "metadata": {},
   "outputs": [],
   "source": [
    "y1 = RFR_model.predict(X1_scaled)\n",
    "y2 = GBR_model.predict(X1_scaled)\n",
    "y3 = BR_model.predict(X1_scaled)"
   ]
  },
  {
   "cell_type": "code",
   "execution_count": 55,
   "id": "b3c3984f",
   "metadata": {},
   "outputs": [
    {
     "name": "stdout",
     "output_type": "stream",
     "text": [
      "Deep Neural Network prediction\n",
      "Depth = 1.53\n",
      "Width = 2.53\n",
      "Random Forest prediction\n",
      "Depth = 1.55\n",
      "Width = 2.5\n",
      "GradientBoosting prediction\n",
      "Depth = 1.61\n",
      "Width = 2.49\n",
      "BaggingRegressor prediction\n",
      "Depth = 1.62\n",
      "Width = 2.5\n"
     ]
    }
   ],
   "source": [
    "print('Deep Neural Network prediction')\n",
    "print(f'Depth = {str(round(dnn_y1[0, 0], 2))}')\n",
    "print(f'Width = {str(round(dnn_y1[0, 1], 2))}')\n",
    "print('Random Forest prediction')\n",
    "print(f'Depth = {round(y1[0, 0], 2)}')\n",
    "print(f'Width = {round(y1[0, 1], 2)}')\n",
    "print('GradientBoosting prediction')\n",
    "print(f'Depth = {round(y2[0, 0], 2)}')\n",
    "print(f'Width = {round(y2[0, 1], 2)}')\n",
    "print('BaggingRegressor prediction')\n",
    "print(f'Depth = {round(y3[0, 0], 2)}')\n",
    "print(f'Width = {round(y3[0, 1], 2)}')"
   ]
  },
  {
   "cell_type": "code",
   "execution_count": 52,
   "id": "41434f60",
   "metadata": {},
   "outputs": [
    {
     "data": {
      "text/plain": [
       "numpy.float64"
      ]
     },
     "execution_count": 52,
     "metadata": {},
     "output_type": "execute_result"
    }
   ],
   "source": [
    "type(y1[0,1])"
   ]
  },
  {
   "cell_type": "code",
   "execution_count": 53,
   "id": "c86dc769",
   "metadata": {},
   "outputs": [
    {
     "data": {
      "text/plain": [
       "numpy.float64"
      ]
     },
     "execution_count": 53,
     "metadata": {},
     "output_type": "execute_result"
    }
   ],
   "source": [
    "type(y3[0,1])"
   ]
  },
  {
   "cell_type": "code",
   "execution_count": null,
   "id": "d2292031",
   "metadata": {},
   "outputs": [],
   "source": []
  }
 ],
 "metadata": {
  "kernelspec": {
   "display_name": "tf",
   "language": "python",
   "name": "tf"
  },
  "language_info": {
   "codemirror_mode": {
    "name": "ipython",
    "version": 3
   },
   "file_extension": ".py",
   "mimetype": "text/x-python",
   "name": "python",
   "nbconvert_exporter": "python",
   "pygments_lexer": "ipython3",
   "version": "3.9.15"
  }
 },
 "nbformat": 4,
 "nbformat_minor": 5
}
