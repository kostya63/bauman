{
 "cells": [
  {
   "cell_type": "code",
   "execution_count": 13,
   "id": "02b36387",
   "metadata": {},
   "outputs": [],
   "source": [
    "import pandas as pd\n",
    "import numpy as np\n",
    "from sklearn.model_selection import train_test_split\n",
    "from sklearn.ensemble import RandomForestRegressor, GradientBoostingRegressor, BaggingRegressor\n",
    "from sklearn.multioutput import MultiOutputRegressor\n",
    "from sklearn.metrics import mean_squared_error\n",
    "from sklearn import preprocessing\n",
    "import joblib"
   ]
  },
  {
   "cell_type": "code",
   "execution_count": 14,
   "id": "d2c16914",
   "metadata": {},
   "outputs": [],
   "source": [
    "df = pd.read_csv('ebw_data.csv')"
   ]
  },
  {
   "cell_type": "code",
   "execution_count": 15,
   "id": "5ad2e7bb",
   "metadata": {},
   "outputs": [],
   "source": [
    "X = df.loc[:, ('IW', 'IF', 'VW', 'FP')]\n",
    "y = df.loc[:, ('Depth', 'Width')]\n",
    "\n",
    "scaler = preprocessing.MinMaxScaler()\n",
    "names = X.columns\n",
    "X = pd.DataFrame(scaler.fit_transform(X), columns=names)\n",
    "\n",
    "X_train, X_test, y_train, y_test = train_test_split(X, y, train_size=0.8)"
   ]
  },
  {
   "cell_type": "code",
   "execution_count": 16,
   "id": "d72de475",
   "metadata": {},
   "outputs": [
    {
     "name": "stdout",
     "output_type": "stream",
     "text": [
      "Build and fit regressor models...\n",
      "RandomForestRegressor Score 0.922211695773338\n",
      "GradientBoostingRegressor Score 0.9373690078658199\n",
      "BaggingRegressor Score 0.9207824575412742\n"
     ]
    }
   ],
   "source": [
    "print('Build and fit regressor models...')\n",
    "\n",
    "RFR_model = RandomForestRegressor(n_estimators=100)\n",
    "GBR_model = MultiOutputRegressor(GradientBoostingRegressor())\n",
    "BR_model = MultiOutputRegressor(BaggingRegressor())\n",
    "RFR_model.fit(X_train, y_train)\n",
    "GBR_model.fit(X_train, y_train)\n",
    "BR_model.fit(X_train, y_train)\n",
    "score1 = RFR_model.score(X_test, y_test)\n",
    "score2 = GBR_model.score(X_test, y_test)\n",
    "score3 = BR_model.score(X_test, y_test)\n",
    "\n",
    "print('RandomForestRegressor Score', score1)\n",
    "print('GradientBoostingRegressor Score', score2)\n",
    "print('BaggingRegressor Score', score3)"
   ]
  },
  {
   "cell_type": "code",
   "execution_count": 17,
   "id": "36b5443a",
   "metadata": {},
   "outputs": [
    {
     "name": "stdout",
     "output_type": "stream",
     "text": [
      "RandomForestRegressor MSE 0.0037259126224053057\n",
      "GradientBoostingRegressor MSE 0.0031257176163206595\n",
      "BaggingRegressor MSE 0.003795489385016589\n"
     ]
    }
   ],
   "source": [
    "mse1 = mean_squared_error(y_test, RFR_model.predict(X_test))\n",
    "print('RandomForestRegressor MSE', mse1)\n",
    "mse2 = mean_squared_error(y_test, GBR_model.predict(X_test))\n",
    "print('GradientBoostingRegressor MSE', mse2)\n",
    "mse3 = mean_squared_error(y_test, BR_model.predict(X_test))\n",
    "print('BaggingRegressor MSE', mse3)"
   ]
  },
  {
   "cell_type": "code",
   "execution_count": 18,
   "id": "9813cf58",
   "metadata": {},
   "outputs": [
    {
     "data": {
      "text/plain": [
       "['scaler.sav']"
      ]
     },
     "execution_count": 18,
     "metadata": {},
     "output_type": "execute_result"
    }
   ],
   "source": [
    "joblib.dump(RFR_model, 'RFR_model.sav')\n",
    "joblib.dump(GBR_model, 'GBR_model.sav')\n",
    "joblib.dump(BR_model, 'BR_model.sav')\n",
    "joblib.dump(scaler, 'scaler.sav')"
   ]
  },
  {
   "cell_type": "code",
   "execution_count": null,
   "id": "b8d2638d",
   "metadata": {},
   "outputs": [],
   "source": []
  },
  {
   "cell_type": "code",
   "execution_count": null,
   "id": "5d530d13",
   "metadata": {},
   "outputs": [],
   "source": []
  },
  {
   "cell_type": "code",
   "execution_count": null,
   "id": "46990784",
   "metadata": {},
   "outputs": [],
   "source": []
  },
  {
   "cell_type": "code",
   "execution_count": null,
   "id": "cc4fc2c7",
   "metadata": {},
   "outputs": [],
   "source": []
  },
  {
   "cell_type": "code",
   "execution_count": null,
   "id": "3863ff09",
   "metadata": {},
   "outputs": [],
   "source": []
  },
  {
   "cell_type": "code",
   "execution_count": null,
   "id": "d14a8e5c",
   "metadata": {},
   "outputs": [],
   "source": []
  },
  {
   "cell_type": "code",
   "execution_count": null,
   "id": "77f6e083",
   "metadata": {},
   "outputs": [],
   "source": []
  },
  {
   "cell_type": "code",
   "execution_count": null,
   "id": "3815e1a0",
   "metadata": {},
   "outputs": [],
   "source": []
  },
  {
   "cell_type": "code",
   "execution_count": null,
   "id": "4665e1f2",
   "metadata": {},
   "outputs": [],
   "source": []
  },
  {
   "cell_type": "code",
   "execution_count": null,
   "id": "4b1d6425",
   "metadata": {},
   "outputs": [],
   "source": []
  },
  {
   "cell_type": "code",
   "execution_count": null,
   "id": "40a6484d",
   "metadata": {},
   "outputs": [],
   "source": []
  },
  {
   "cell_type": "code",
   "execution_count": null,
   "id": "c50b09c8",
   "metadata": {},
   "outputs": [],
   "source": []
  },
  {
   "cell_type": "code",
   "execution_count": null,
   "id": "63f35839",
   "metadata": {},
   "outputs": [],
   "source": []
  },
  {
   "cell_type": "code",
   "execution_count": null,
   "id": "2c16ca00",
   "metadata": {},
   "outputs": [],
   "source": []
  },
  {
   "cell_type": "code",
   "execution_count": null,
   "id": "9ef0f1d0",
   "metadata": {},
   "outputs": [],
   "source": []
  },
  {
   "cell_type": "code",
   "execution_count": null,
   "id": "ed4140ce",
   "metadata": {},
   "outputs": [],
   "source": []
  },
  {
   "cell_type": "code",
   "execution_count": null,
   "id": "35d7b8ed",
   "metadata": {},
   "outputs": [],
   "source": []
  }
 ],
 "metadata": {
  "kernelspec": {
   "display_name": "tf",
   "language": "python",
   "name": "tf"
  },
  "language_info": {
   "codemirror_mode": {
    "name": "ipython",
    "version": 3
   },
   "file_extension": ".py",
   "mimetype": "text/x-python",
   "name": "python",
   "nbconvert_exporter": "python",
   "pygments_lexer": "ipython3",
   "version": "3.9.15"
  }
 },
 "nbformat": 4,
 "nbformat_minor": 5
}
